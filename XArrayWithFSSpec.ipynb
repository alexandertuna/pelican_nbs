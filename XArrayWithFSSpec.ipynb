{
 "cells": [
  {
   "cell_type": "markdown",
   "metadata": {},
   "source": [
    "# HRRR 2m Temperature Analysis\n",
    "\n",
    "This notebook demonstrates how to load, process, and visualize 2-meter temperature data from HRRR using Xarray, Cartopy, and Matplotlib.\n",
    "\n",
    "## Setup\n",
    "\n",
    "We'll start by importing the necessary libraries."
   ]
  },
  {
   "cell_type": "code",
   "execution_count": null,
   "metadata": {},
   "outputs": [],
   "source": [
    "\n",
    "import xarray as xr\n",
    "import numpy as np\n",
    "import matplotlib.pyplot as plt\n",
    "import cartopy.crs as ccrs\n",
    "import cartopy.feature as cfeature\n",
    "import metpy.calc as mpcalc\n",
    "from metpy.units import units\n",
    "from pelicanfs.core import OSDFFileSystem"
   ]
  },
  {
   "cell_type": "markdown",
   "metadata": {},
   "source": [
    "## Define File Paths\n",
    "\n",
    "Define the date, hour, variable, and level for the HRRR data."
   ]
  },
  {
   "cell_type": "code",
   "execution_count": null,
   "metadata": {},
   "outputs": [],
   "source": [
    "# Set the date, hour, variable, and level for the HRRR data\n",
    "date = '20211016'\n",
    "hour = '21'\n",
    "var = 'TMP'\n",
    "level = '2m_above_ground'\n",
    "\n",
    "# Construct file paths for the Zarr datasets\n",
    "namespace_file1 = f'/chtc/PUBLIC/eturetsky/hrrrzarr/sfc/{date}/{date}_{hour}z_anl.zarr/{level}/{var}/{level}/'\n",
    "namespace_file2 = f'/chtc/PUBLIC/eturetsky/hrrrzarr/sfc/{date}/{date}_{hour}z_anl.zarr/{level}/{var}/'\n"
   ]
  },
  {
   "cell_type": "markdown",
   "metadata": {},
   "source": [
    "## Open Zarr Datasets\n",
    "\n",
    "Use OSDFFileSystem to open the Zarr datasets and read them with Xarray."
   ]
  },
  {
   "cell_type": "code",
   "execution_count": null,
   "metadata": {},
   "outputs": [],
   "source": [
    "# Initialize the OSDFFileSystem\n",
    "xfs = OSDFFileSystem()\n",
    "\n",
    "# Get mappers for the Zarr datasets\n",
    "file1 = xfs.get_mapper(namespace_file1)\n",
    "file2 = xfs.get_mapper(namespace_file2)\n",
    "\n",
    "# Open the datasets\n",
    "ds = xr.open_mfdataset([file1, file2], engine='zarr')\n",
    "\n",
    "# Display the dataset\n",
    "ds"
   ]
  },
  {
   "cell_type": "markdown",
   "metadata": {},
   "source": [
    "## Define Projection and Coordinate System\n",
    "\n",
    "Set up the projection and coordinate system for plotting."
   ]
  },
  {
   "cell_type": "code",
   "execution_count": null,
   "metadata": {},
   "outputs": [],
   "source": [
    "# Define coordinates for projection\n",
    "lon1 = -97.5\n",
    "lat1 = 38.5\n",
    "slat = 38.5\n",
    "\n",
    "# Define the Lambert Conformal projection\n",
    "projData = ccrs.LambertConformal(\n",
    "    central_longitude=lon1,\n",
    "    central_latitude=lat1,\n",
    "    standard_parallels=[slat, slat],\n",
    "    globe=ccrs.Globe(\n",
    "        semimajor_axis=6371229,\n",
    "        semiminor_axis=6371229\n",
    "    )\n",
    ")\n",
    "\n",
    "# Display dataset coordinates\n",
    "ds.coords"
   ]
  },
  {
   "cell_type": "markdown",
   "metadata": {},
   "source": [
    "## Extract and Convert Data\n",
    "\n",
    "Extract temperature data and convert its units"
   ]
  },
  {
   "cell_type": "code",
   "execution_count": null,
   "metadata": {},
   "outputs": [],
   "source": [
    "# Extract temperature data\n",
    "airTemp = ds.TMP\n",
    "\n",
    "# Display the temperature data\n",
    "airTemp\n",
    "\n",
    "# Convert temperature units to Celsius\n",
    "airTemp = airTemp.metpy.convert_units('degC')\n",
    "\n",
    "# Display the converted temperature data\n",
    "airTemp\n"
   ]
  },
  {
   "cell_type": "markdown",
   "metadata": {},
   "source": [
    "## Plot Temperature Data\n",
    "\n",
    "Create a plot of the temperature data."
   ]
  },
  {
   "cell_type": "code",
   "execution_count": null,
   "metadata": {},
   "outputs": [],
   "source": [
    "# Extract projection coordinates\n",
    "x = airTemp.projection_x_coordinate\n",
    "y = airTemp.projection_y_coordinate\n",
    "\n",
    "# Plot temperature data\n",
    "airTemp.plot(figsize=(11, 8.5))\n",
    "\n",
    "# Compute minimum and maximum temperatures\n",
    "minTemp = airTemp.min().compute()\n",
    "maxTemp = airTemp.max().compute()\n",
    "\n",
    "# Display minimum and maximum temperature values\n",
    "minTemp.values, maxTemp.values\n"
   ]
  },
  {
   "cell_type": "markdown",
   "metadata": {},
   "source": [
    "## Define Contour Levels and Plot\n",
    "\n",
    "Set up contour levels and plot the temperature data."
   ]
  },
  {
   "cell_type": "code",
   "execution_count": null,
   "metadata": {},
   "outputs": [],
   "source": [
    "# Define contour levels\n",
    "fint = np.arange(np.floor(minTemp.values), np.ceil(maxTemp.values) + 2, 2)\n",
    "\n",
    "# Define plot bounds and resolution\n",
    "latN = 50.4\n",
    "latS = 24.25\n",
    "lonW = -123.8\n",
    "lonE = -71.2\n",
    "res = '50m'\n",
    "\n",
    "# Create a figure and axis with projection\n",
    "fig = plt.figure(figsize=(18, 12))\n",
    "ax = plt.subplot(1, 1, 1, projection=projData)\n",
    "ax.set_extent([lonW, lonE, latS, latN], crs=ccrs.PlateCarree())\n",
    "ax.add_feature(cfeature.COASTLINE.with_scale(res))\n",
    "ax.add_feature(cfeature.STATES.with_scale(res))\n",
    "\n",
    "# Add the title\n",
    "tl1 = 'HRRR 2m temperature ($^\\circ$C)'\n",
    "tl2 = f'Analysis valid at: {hour}00 UTC {date}'\n",
    "plt.title(f'{tl1}\\n{tl2}', fontsize=16)\n",
    "\n",
    "# Contour fill\n",
    "CF = ax.contourf(x, y, airTemp, levels=fint, cmap=plt.get_cmap('coolwarm'))\n",
    "\n",
    "# Make a colorbar for the ContourSet returned by the contourf call\n",
    "cbar = fig.colorbar(CF, shrink=0.5)\n",
    "cbar.set_label(r'2m Temperature ($^\\circ$C)', size='large')\n",
    "\n",
    "# Show the plot\n",
    "plt.show()"
   ]
  }
 ],
 "metadata": {
  "kernelspec": {
   "display_name": "Python 3 (ipykernel)",
   "language": "python",
   "name": "python3"
  },
  "language_info": {
   "codemirror_mode": {
    "name": "ipython",
    "version": 3
   },
   "file_extension": ".py",
   "mimetype": "text/x-python",
   "name": "python",
   "nbconvert_exporter": "python",
   "pygments_lexer": "ipython3",
   "version": "3.11.10"
  }
 },
 "nbformat": 4,
 "nbformat_minor": 4
}
