{
 "cells": [
  {
   "cell_type": "code",
   "execution_count": null,
   "id": "2793fadc-5daa-44a8-9ac6-aaff136247b8",
   "metadata": {},
   "outputs": [],
   "source": [
    "version = \"7.10.8\""
   ]
  },
  {
   "cell_type": "code",
   "execution_count": null,
   "id": "c7307968-3c52-401a-9c8b-92b4bf3d173e",
   "metadata": {},
   "outputs": [],
   "source": [
    "! wget -q https://github.com/PelicanPlatform/pelican/releases/download/v{version}/pelican_Linux_x86_64.tar.gz\n",
    "! tar -zxvf pelican_Linux_x86_64.tar.gz\n",
    "! rm pelican_Linux_x86_64.tar.gz*"
   ]
  },
  {
   "cell_type": "code",
   "execution_count": null,
   "id": "003dc971-afd8-42df-b929-65c39551c2dc",
   "metadata": {},
   "outputs": [],
   "source": [
    "import os\n",
    "os.environ[\"PATH\"] += f\":{os.getcwd()}/pelican-{version}\""
   ]
  },
  {
   "cell_type": "code",
   "execution_count": null,
   "id": "6cecb1db-7399-4069-8d90-a5218565a901",
   "metadata": {},
   "outputs": [],
   "source": [
    "from pelicanfs.core import PelicanFileSystem, PelicanMap\n",
    "import fsspec\n",
    "from pathlib import Path"
   ]
  },
  {
   "cell_type": "code",
   "execution_count": null,
   "id": "62d418c0-7376-44ed-b77e-203fc7738cdd",
   "metadata": {},
   "outputs": [],
   "source": [
    "federation = \"osg-htc.org\"\n",
    "namespace = \"/ndp/burnpro3d\"\n",
    "pelfs = PelicanFileSystem(f\"pelican://{federation}\")"
   ]
  },
  {
   "cell_type": "code",
   "execution_count": null,
   "id": "25fcdd94-f161-46ed-ac92-f69ca722aaa1",
   "metadata": {},
   "outputs": [],
   "source": [
    "for obj in pelfs.ls(namespace):\n",
    "    print(obj)"
   ]
  },
  {
   "cell_type": "code",
   "execution_count": null,
   "id": "b9b9e3b2-3cd9-45d7-9a01-82022f6b795b",
   "metadata": {},
   "outputs": [],
   "source": [
    "fpath = \"osdf:///\" + \"/ndp/burnpro3d/birch.png\"\n",
    "\n",
    "from PIL import Image\n",
    "from IPython.display import display\n",
    "\n",
    "with fsspec.open(str(fpath), \"rb\") as fi:\n",
    "    print(fi)\n",
    "    im = Image.open(fi)\n",
    "    im.load()\n",
    "\n",
    "print(im.format, im.size, im.mode)\n",
    "\n",
    "if max(im.size) > 1000:\n",
    "    print(\"Resizing\")\n",
    "    size_x, size_y = im.size\n",
    "    im = im.resize((size_x // 8, size_y // 8))\n",
    "\n",
    "display(im)"
   ]
  },
  {
   "cell_type": "code",
   "execution_count": null,
   "id": "aca68f2c-0ca9-4b87-9cfb-600551e23503",
   "metadata": {},
   "outputs": [],
   "source": [
    "fpath = Path(\"osdf:///\" + \"/ndp/burnpro3d/TLS_scans.zip\")\n",
    "\n",
    "! pelican object get -f {federation} {fpath} {fpath.name}\n",
    "! python -m zipfile -e {fpath.name} .\n",
    "! rm {fpath.name}\n",
    "! ls -ltrh"
   ]
  },
  {
   "cell_type": "code",
   "execution_count": null,
   "id": "b97735ee-4fae-4fcd-8501-650269a96b83",
   "metadata": {},
   "outputs": [],
   "source": [
    "import trimesh\n",
    "mesh = trimesh.load(\"TLS_scans/original_ply/Area_5_05_20_1756.ply\")\n",
    "print(mesh)"
   ]
  },
  {
   "cell_type": "code",
   "execution_count": null,
   "id": "2f5dbb55-219f-4f4e-8ab5-4ac7d5f9caf4",
   "metadata": {},
   "outputs": [],
   "source": [
    "import plotly.graph_objects as go\n",
    "import numpy as np\n",
    "%matplotlib widget\n",
    "\n",
    "# Grab a random subset of points\n",
    "everything = len(mesh.vertices)\n",
    "max_points = min(50_000, everything)\n",
    "print(f\"Max points: {max_points}\")\n",
    "subset = np.random.randint(low=0, high=everything, size=max_points)\n",
    "points = mesh.vertices[subset]\n",
    "\n",
    "# Create a scatter plot for the points using Plotly\n",
    "scatter = go.Scatter3d(\n",
    "    x=points[:, 0],\n",
    "    y=points[:, 1],\n",
    "    z=points[:, 2],\n",
    "    mode='markers',\n",
    "    marker=dict(size=2, color='blue')\n",
    ")\n",
    "\n",
    "# Set up the layout\n",
    "layout = go.Layout(\n",
    "    scene=dict(\n",
    "        xaxis=dict(title='X'),\n",
    "        yaxis=dict(title='Y'),\n",
    "        zaxis=dict(title='Z')\n",
    "    ),\n",
    "    width=800,\n",
    "    height=800,\n",
    ")\n",
    "\n",
    "# Create the figure and display it\n",
    "fig = go.Figure(data=[scatter], layout=layout)\n",
    "fig.show()"
   ]
  },
  {
   "cell_type": "code",
   "execution_count": null,
   "id": "2b9f8707-030d-4428-938d-e124dea05fce",
   "metadata": {},
   "outputs": [],
   "source": []
  }
 ],
 "metadata": {
  "kernelspec": {
   "display_name": "Python 3 (ipykernel)",
   "language": "python",
   "name": "python3"
  },
  "language_info": {
   "codemirror_mode": {
    "name": "ipython",
    "version": 3
   },
   "file_extension": ".py",
   "mimetype": "text/x-python",
   "name": "python",
   "nbconvert_exporter": "python",
   "pygments_lexer": "ipython3",
   "version": "3.11.9"
  }
 },
 "nbformat": 4,
 "nbformat_minor": 5
}
