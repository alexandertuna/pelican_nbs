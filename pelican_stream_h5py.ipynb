{
 "cells": [
  {
   "cell_type": "code",
   "execution_count": 1,
   "id": "d36a1410-c6c7-4464-bff2-c8d9d9246570",
   "metadata": {},
   "outputs": [],
   "source": [
    "! pip install pelicanfs -q"
   ]
  },
  {
   "cell_type": "code",
   "execution_count": 2,
   "id": "7caa9e47-cba7-4541-a8fc-9b7df83b8d74",
   "metadata": {},
   "outputs": [],
   "source": [
    "import h5py\n",
    "import pelicanfs\n",
    "import fsspec"
   ]
  },
  {
   "cell_type": "code",
   "execution_count": 3,
   "id": "6e4f6478-ccb4-40d6-a61f-36ecb43dbab8",
   "metadata": {},
   "outputs": [],
   "source": [
    "url = \"osdf:///uhkoa/SPIN4D-DR1/SPIN4D_SSD_100G/stokes-090047-15648.h5\""
   ]
  },
  {
   "cell_type": "code",
   "execution_count": 4,
   "id": "61423983-3694-4480-b1cc-338c7f043321",
   "metadata": {},
   "outputs": [
    {
     "name": "stdout",
     "output_type": "stream",
     "text": [
      "<KeysViewHDF5 ['I', 'Q', 'U', 'V', 'lambda']>\n"
     ]
    }
   ],
   "source": [
    "file_remote = fsspec.open(url)\n",
    "stokes = h5py.File(file_remote.open())\n",
    "print(stokes.keys())"
   ]
  }
 ],
 "metadata": {
  "kernelspec": {
   "display_name": "Python 3 (ipykernel)",
   "language": "python",
   "name": "python3"
  },
  "language_info": {
   "codemirror_mode": {
    "name": "ipython",
    "version": 3
   },
   "file_extension": ".py",
   "mimetype": "text/x-python",
   "name": "python",
   "nbconvert_exporter": "python",
   "pygments_lexer": "ipython3",
   "version": "3.13.0"
  }
 },
 "nbformat": 4,
 "nbformat_minor": 5
}
